{
 "cells": [
  {
   "cell_type": "markdown",
   "metadata": {},
   "source": [
    "### INSH 6404 - Analyzing complex digital data"
   ]
  },
  {
   "cell_type": "markdown",
   "metadata": {},
   "source": [
    "# Final project - Official government-sponsored flows of money into Serbia (case of government debt)"
   ]
  },
  {
   "cell_type": "markdown",
   "metadata": {},
   "source": [
    "### Milan Skobic"
   ]
  },
  {
   "cell_type": "markdown",
   "metadata": {},
   "source": [
    "# Introduction"
   ]
  },
  {
   "cell_type": "markdown",
   "metadata": {},
   "source": [
    "## Reason and questions"
   ]
  },
  {
   "cell_type": "markdown",
   "metadata": {},
   "source": [
    "How can we assess the relation between state governments, patterns of capital accumulation, and class conflict and formation in a (semi-)peripheral context?\n",
    "\n",
    "One entry point is the issue of legitimacy of state policies - how does a certain government construct itself as legitimate? In the case of Serbia, which we will explore here, government often relies on economic indicators promoted by transnational financial institutions such as the IMF and World Bank, including GDP growth, average salary, and others, to present itself as successful and therefore legitimate.\n",
    "\n",
    "One among those indicators, is ratio of government debt to GDP. For (semi-)peripheral (or \"developing\") countries, transnational institutions advocate government debt not to exceed more than 50% of GDP. That is also something which Serbian government adheres to, and which the political elite boasts about. \n",
    "\n",
    "However, while the government uses this to substantiate its self-promotion, it is not clear how we can interpret the social meaning of this indicator. What are the side effects and particular relations that constitute these \"successes\"?\n",
    "\n",
    "If we are able to ask and answer questions in this direction, we can generate insights of both theoretical and practical relevance. Theoretically, debates about the possible changing organization of global capitalism are prominent in recent years, and there have been indications that various peripheral contexts can  present harbingers of trends that are to emerge on a global level. Issues of power relations and scales, class formation and conflict, debt and value are all at stake.\n",
    "Practically, speaking truth to power and generating a granulated picture of its actions allows for more incisive political interventions and specification of alternative policies.\n",
    "\n",
    "In order to start answering these questions, we turn to yearly budgets of Serbian government, and more specifically, who it borrows the money from. We will parse several tables with a code developed for that purpose, and in that way chart the changing actors and their prominence among the lenders to Serbian government. Answering this question and generating a dataset about it will, in turn, generate many more specific practical, empirical, and theoretical questions. In this way, we will demonstrate one of the main merits of this approach, showing how it encourages and supports imagination which can detect new patterns and ask new questions. "
   ]
  },
  {
   "cell_type": "markdown",
   "metadata": {},
   "source": [
    "# Coding and preparing data"
   ]
  },
  {
   "cell_type": "code",
   "execution_count": 1,
   "metadata": {},
   "outputs": [],
   "source": [
    "#relevant packages for generating the dataset\n",
    "\n",
    "import pandas as pd\n",
    "import numpy as np\n",
    "from tabula import read_pdf\n",
    "from tabula import convert_into"
   ]
  },
  {
   "cell_type": "markdown",
   "metadata": {},
   "source": [
    "We will parse one document at the time, because of constantly shifting ways the document is organized. As we go through documents a general dataset will emerge, containing the names of the actors and the amount of money borrowed from them per year."
   ]
  },
  {
   "cell_type": "code",
   "execution_count": 2,
   "metadata": {},
   "outputs": [],
   "source": [
    "df1=read_pdf(\"budzeti srbije/budzet 2019lat.pdf\", pages='5-7', multiple_tables=True, spreadsheet=True, encoding='Windows 1250')\n",
    "r_n_l=['I.','II.','III.','IV.','V.','VI.','VII.','VIII.','IX.','X.','XI.','XII.','XIII.','UKUPNO']\n",
    "\n",
    "conversion_ratesEURUSD={\"2018\":1.18, \"2017\":1.13, \"2016\":1.11, \"2015\":1.11, \"2014\":1.33, \"2013\":1.33, \"2012\":1.28, \"2011\":1.39, \"2010\":1.13, \"2009\":1.39, \"2008\":1.47, \"2007\":1.37, \"2006\":1.26, \"2005\":1.24, \"2004\":1.24, \"2003\":1.13, \"2002\":0.95}\n",
    "#source for conversion rates https://www.statista.com/statistics/412794/euro-to-u-s-dollar-annual-average-exchange-rate/\n",
    "\n",
    "conversion_ratesCNYUSD={\"2018\":1/6.62,\"2017\":1/7.03,\"2016\":1/6.91,\"2015\":1/6.489,\"2014\":1/6.394,\"2013\":1/6.446}\n",
    "#source for CNY to USD conversion rates https://www.irs.gov/individuals/international-taxpayers/yearly-average-currency-exchange-rates/\n",
    "\n",
    "year=2019"
   ]
  },
  {
   "cell_type": "code",
   "execution_count": 3,
   "metadata": {},
   "outputs": [],
   "source": [
    "del df1[4] ##part of the new table at the last pdf page containing the relevant table.\n",
    "del df1[0] ##part of the previous table at the same page."
   ]
  },
  {
   "cell_type": "markdown",
   "metadata": {},
   "source": [
    "Functions - these are the functions that have been developed mostly out of for loops created during the parsing of documents. Most of them have been developed based on the \"budzet\" (budget) file for 2019. This means some aspects of the parsing the files for the following years have remained hard coded because different tables present in \"budzet\" files for different years were formatted by the authors in different way."
   ]
  },
  {
   "cell_type": "code",
   "execution_count": 4,
   "metadata": {},
   "outputs": [],
   "source": [
    "#since pdf parser returns the table broken into several parts because of multiple pages on which it is located\n",
    "#i make a function for merging those parts\n",
    "def merge_dataframes(df1):\n",
    "    df=pd.DataFrame()\n",
    "    for ldf in df1:\n",
    "        df=df.append(ldf)\n",
    "    return(df)\n",
    "\n",
    "#function for getting row index numbers, from 0 to length of the table\n",
    "def reset_index(merg_df1):\n",
    "    merg_df1.index = np.arange(0, len(merg_df1))\n",
    "    return(merg_df1)\n",
    "\n",
    "#creating the new column - number - which serves to prepare the separation of the dataframe according to actors\n",
    "#subsection of the table for each actors starts with a roman numeral - we will add that numeral to each row of the subsection\n",
    "def numeral_column(merg_df1):\n",
    "    merg_df1[\"number\"]=''\n",
    "    c=0\n",
    "    a=0\n",
    "    for row in merg_df1.itertuples():\n",
    "        merg_df1[\"number\"].iloc[c]=''\n",
    "        row=[str(item) for item in merg_df1.iloc[c]]\n",
    "        for x in row:\n",
    "            for item in r_n_l:\n",
    "                if item==x:\n",
    "                    merg_df1[\"number\"].iloc[c]=item\n",
    "                    a=item\n",
    "                    continue\n",
    "                else:\n",
    "                    merg_df1[\"number\"].iloc[c]=a\n",
    "                    continue\n",
    "        c+=1\n",
    "    return(merg_df1)\n",
    "\n",
    "#make a loop that counts how many different currencies there are in the column no3 where currencies are shown\n",
    "#then cut as many last rows as there are currencies\n",
    "#this removes the rows with the total sum of the money for all actors, which is not of particular interest to us\n",
    "def erase_rows(merg_df1):\n",
    "    curr_list=[]\n",
    "    for item in merg_df1[3]:\n",
    "        if item not in curr_list:\n",
    "            curr_list.append(item)\n",
    "        else:\n",
    "            continue\n",
    "    curr_list=[str(item) for item in curr_list]\n",
    "    curr_list.remove('nan')\n",
    "    a=int(len(curr_list))\n",
    "    merg_df1=merg_df1.iloc[:-a]\n",
    "    return(merg_df1)\n",
    "\n",
    "#cleaning the value from a tuple into a DataFrame\n",
    "#and removing the number column which does not have a point anymore\n",
    "def clean_df(d):\n",
    "    for key,value in d.items():\n",
    "        df_tuple=value\n",
    "        numeral,df=df_tuple\n",
    "        df=df.drop([\"number\"], axis=1)\n",
    "        df=reset_index(df)\n",
    "        d[key]=df\n",
    "    return(d)\n",
    "\n",
    "#function to prepare tuples- the result should be a string Currency, and integer number\n",
    "def tup_prep(tup):\n",
    "    num,curr=tup\n",
    "    num=str(num)\n",
    "    num=num.replace('.','')\n",
    "    num=int(num)\n",
    "    tup=(num,curr)\n",
    "    return(tup)\n",
    "\n",
    "def get_tups(df):\n",
    "    for row in df.itertuples():\n",
    "        ukupno1_tuple=(row[5],row[4])\n",
    "        for x in row:\n",
    "            x=str(x)\n",
    "            if \"Ukupno\" in x:\n",
    "                ukupno2_tuple=(row[5], row[4])#even though columns start with 0, index for tuple starts with one (in dataframe the column is 4, but here i have to put 5 )\n",
    "                curr=row[4]\n",
    "    ukupno1_tuple=tup_prep(ukupno1_tuple)\n",
    "    ukupno2_tuple=tup_prep(ukupno2_tuple)\n",
    "    return(ukupno1_tuple,ukupno2_tuple)\n",
    "\n",
    "#currency conversion function EUR to USD\n",
    "def conv_to_dolEU (some_tuple, year):\n",
    "    num,curr=some_tuple\n",
    "    key=year-1\n",
    "    key=str(key)\n",
    "    if curr==\"EUR\":\n",
    "        numb=num*conversion_ratesEURUSD[key]\n",
    "        curr=\"USD\"\n",
    "        new_tuple=numb,curr\n",
    "        return(new_tuple)\n",
    "    \n",
    "#currency conversion CNY to USD\n",
    "def conv_to_dolCNY (some_tuple, year):\n",
    "    num,curr=some_tuple\n",
    "    key=year-1\n",
    "    key=str(key)\n",
    "    if curr==\"CNY\":\n",
    "        numb=num*conversion_ratesCNYUSD[key]\n",
    "        curr=\"USD\"\n",
    "        new_tuple=numb,curr\n",
    "        return(new_tuple)\n",
    "    \n",
    "#function for getting the variables with money and currency from the tuples\n",
    "#function to return the total money, or combine two tuples to get total money in dollars\n",
    "def get_mon_cur(ukupno1_tuple,ukupno2_tuple,year):\n",
    "    if ukupno1_tuple==ukupno2_tuple:\n",
    "        money,curr=ukupno1_tuple\n",
    "        if curr==\"EUR\":\n",
    "            total_tuple=conv_to_dolEU(ukupno1_tuple,year)\n",
    "        elif curr==\"CNY\":\n",
    "            total_tuple=conv_to_dolCNY(ukupno1_tuple,year)\n",
    "        else:\n",
    "            total_tuple=(money,curr)\n",
    "        return(total_tuple)\n",
    "    elif ukupno1_tuple!=ukupno2_tuple:\n",
    "        mon1,cur1=ukupno1_tuple\n",
    "        mon2,cur2=ukupno2_tuple\n",
    "        if cur1==\"EUR\":\n",
    "            new_tuple=conv_to_dolEU(ukupno1_tuple,year)\n",
    "            num,curr=new_tuple\n",
    "            mon2,cur2=ukupno2_tuple\n",
    "            mon=num+mon2\n",
    "            cur=curr\n",
    "            total_tuple=(mon,cur)\n",
    "        elif cur2==\"EUR\":\n",
    "            new_tuple=conv_to_dolEU(ukupno2_tuple,year)\n",
    "            num,curr=new_tuple\n",
    "            mon1,cur1=ukupno1_tuple\n",
    "            mon=num+mon1\n",
    "            cur=curr\n",
    "            total_tuple=(mon,cur)\n",
    "        elif cur1==\"CNY\":\n",
    "            new_tuple=conv_to_dolCNY(ukupno1_tuple,year)\n",
    "            num,curr=new_tuple\n",
    "            mon2,cur2=ukupno2_tuple\n",
    "            mon=num+mon2\n",
    "            cur=curr\n",
    "            total_tuple=(mon,cur)\n",
    "        elif cur2==\"CNY\":\n",
    "            new_tuple=conv_to_dolCNY(ukupno2_tuple,year)\n",
    "            num,curr=new_tuple\n",
    "            mon1,cur1=ukupno1_tuple\n",
    "            mon=num+mon1\n",
    "            cur=curr\n",
    "            total_tuple=(mon,cur)\n",
    "        return(total_tuple)\n",
    "    \n"
   ]
  },
  {
   "cell_type": "markdown",
   "metadata": {},
   "source": [
    "Processing the first table - using the defined functions, as well as the functions which are parts of the used packages, or python in general."
   ]
  },
  {
   "cell_type": "code",
   "execution_count": 5,
   "metadata": {
    "scrolled": true
   },
   "outputs": [
    {
     "data": {
      "text/html": [
       "<div>\n",
       "<style scoped>\n",
       "    .dataframe tbody tr th:only-of-type {\n",
       "        vertical-align: middle;\n",
       "    }\n",
       "\n",
       "    .dataframe tbody tr th {\n",
       "        vertical-align: top;\n",
       "    }\n",
       "\n",
       "    .dataframe thead th {\n",
       "        text-align: right;\n",
       "    }\n",
       "</style>\n",
       "<table border=\"1\" class=\"dataframe\">\n",
       "  <thead>\n",
       "    <tr style=\"text-align: right;\">\n",
       "      <th></th>\n",
       "      <th>2019</th>\n",
       "    </tr>\n",
       "    <tr>\n",
       "      <th>actors</th>\n",
       "      <th></th>\n",
       "    </tr>\n",
       "  </thead>\n",
       "  <tbody>\n",
       "    <tr>\n",
       "      <td>WB</td>\n",
       "      <td>4.694380e+08</td>\n",
       "    </tr>\n",
       "    <tr>\n",
       "      <td>EIB</td>\n",
       "      <td>6.926600e+08</td>\n",
       "    </tr>\n",
       "    <tr>\n",
       "      <td>EBRD</td>\n",
       "      <td>1.121000e+08</td>\n",
       "    </tr>\n",
       "    <tr>\n",
       "      <td>CEB</td>\n",
       "      <td>1.102120e+09</td>\n",
       "    </tr>\n",
       "    <tr>\n",
       "      <td>Imp-exp banks</td>\n",
       "      <td>7.080000e+07</td>\n",
       "    </tr>\n",
       "    <tr>\n",
       "      <td>KfW</td>\n",
       "      <td>8.496000e+07</td>\n",
       "    </tr>\n",
       "    <tr>\n",
       "      <td>For-gov</td>\n",
       "      <td>1.327500e+09</td>\n",
       "    </tr>\n",
       "    <tr>\n",
       "      <td>Inst-invest</td>\n",
       "      <td>2.006000e+09</td>\n",
       "    </tr>\n",
       "    <tr>\n",
       "      <td>For-invest CFB</td>\n",
       "      <td>9.440000e+08</td>\n",
       "    </tr>\n",
       "    <tr>\n",
       "      <td>China banks</td>\n",
       "      <td>2.484946e+09</td>\n",
       "    </tr>\n",
       "  </tbody>\n",
       "</table>\n",
       "</div>"
      ],
      "text/plain": [
       "                        2019\n",
       "actors                      \n",
       "WB              4.694380e+08\n",
       "EIB             6.926600e+08\n",
       "EBRD            1.121000e+08\n",
       "CEB             1.102120e+09\n",
       "Imp-exp banks   7.080000e+07\n",
       "KfW             8.496000e+07\n",
       "For-gov         1.327500e+09\n",
       "Inst-invest     2.006000e+09\n",
       "For-invest CFB  9.440000e+08\n",
       "China banks     2.484946e+09"
      ]
     },
     "execution_count": 5,
     "metadata": {},
     "output_type": "execute_result"
    }
   ],
   "source": [
    "merg_df1=(merge_dataframes(df1))\n",
    "merg_df1=reset_index(merg_df1)\n",
    "merg_df1=numeral_column(merg_df1)\n",
    "merg_df1=merg_df1.drop([0], axis=0) #erasing the first row, which does not contain info on any of the lenders\n",
    "merg_df1=erase_rows(merg_df1)\n",
    "\n",
    "#creating a dictionary out of the dataframe\n",
    "#the idea is that each value is a subdataframe, dedicated to an individual actor\n",
    "merg_grouped=merg_df1.groupby('number')\n",
    "d={}\n",
    "c=1\n",
    "for frame in merg_grouped:\n",
    "    d[\"2019-%s\"%(c)]=frame#note hard coded year\n",
    "    c+=1\n",
    "    \n",
    "#for loop for getting actor names\n",
    "act_name_list=[]\n",
    "d=clean_df(d)\n",
    "for value in d.values():\n",
    "    act_name=str(value.at[0,1])\n",
    "    act_name_list.append(act_name)\n",
    "    \n",
    "#translation of the actor names is an issue\n",
    "#we will use the list with abreviations, and bellow is the list with full names of \"actors\"\n",
    "#long names require two lists, one \"ab\" (abbreviations), and one with full names, useful as labels in visulaziations\n",
    "act_name_list_eng_ab=[\"WB\", \"EIB\", \"EBRD\", \"CEB\", \"Imp-exp banks\", \"KfW\", \"For-gov\", \"Inst-invest\", \"For-invest CFB\", \"China banks\"]\n",
    "act_name_list_eng=[\"World Bank\", \"European Investment Bank\", \"European Bank for Reconstruction and Development\", \"Council of Europe Development Bank\", \"Import-export banks\", \"German Development Bank\", \"Foreign Governments\", \"Institutional investors\", \"Foreign investment corporations, funds and banks\", \"Chinese banks\"]\n",
    "\n",
    "#making a dictionary with state/actor as a key, and money in dollars as a value\n",
    "year_dict_ab={}\n",
    "year=2019\n",
    "#toward function for creating a dictionary for year\n",
    "for value in d.values():\n",
    "    act_name=str(value.at[0,1])#note hard coding\n",
    "    ind=act_name_list.index(act_name)\n",
    "    act_name=act_name_list_eng_ab[ind]\n",
    "    a,b=get_tups(value)\n",
    "    money,curr=get_mon_cur(a,b,year)\n",
    "    year_dict_ab[act_name]=money\n",
    "\n",
    "#the emerging combined dataframe\n",
    "#dataframe with years as columns, actors as rows, and money in dollars as values\n",
    "final_df=pd.DataFrame()\n",
    "final_df[\"actors\"]=year_dict_ab.keys()\n",
    "final_df[\"2019\"]=year_dict_ab.values()\n",
    "final_df.set_index([\"actors\"], inplace=True)\n",
    "\n",
    "#lets see how it looks for now - all the amounts are in USD\n",
    "final_df"
   ]
  },
  {
   "cell_type": "markdown",
   "metadata": {},
   "source": [
    "Now the second table will be processed. We could call this a semi-automatized processing, with some things having to be hard coded because of the not-fully-standardized format of the tables with which we work."
   ]
  },
  {
   "cell_type": "code",
   "execution_count": 6,
   "metadata": {},
   "outputs": [],
   "source": [
    "df1=read_pdf(\"budzeti srbije/budzet 2018.pdf\", pages='10-13', multiple_tables=True, spreadsheet=True, encoding='Windows 1250')\n",
    "year=2018\n",
    "#note the hard coded number of pages. Solution to this problem would require identifying patterns with which this table starts\n",
    "#and ends across the files. Then a pdf reader package would be imported and a command would be developed to cut the existing \n",
    "#file and return a pdf document which consists only of the relevant table.\n",
    "\n",
    "del df1[5] #part of the new table at the last pdf page containing the relevant table.\n",
    "del df1[0] #part of the previous table at the same page.\n",
    "\n",
    "merg_df1=(merge_dataframes(df1))\n",
    "merg_df1=reset_index(merg_df1)\n",
    "merg_df1=numeral_column(merg_df1)\n",
    "merg_df1=merg_df1.drop([0], axis=0)\n",
    "merg_df1=erase_rows(merg_df1)\n",
    "merg_grouped=merg_df1.groupby('number')\n",
    "\n",
    "d={}\n",
    "c=1\n",
    "for frame in merg_grouped:\n",
    "    d[\"2018-%s\"%(c)]=frame\n",
    "    c+=1\n",
    "\n",
    "update_list=[]\n",
    "d=clean_df(d)\n",
    "for value in d.values():\n",
    "    act_name=str(value.at[0,1])\n",
    "    update_list.append(act_name)\n",
    "#print(update_list)\n",
    "\"\"\"\n",
    "['Svetskom bankom', 'Evropskom investicionom bankom', 'Evropskom bankom za obnovu i razvoj',\n",
    "'Bankom za razvoj Saveta Evrope', 'Nemačkom razvojnom bankom (KfW)', 'Stranim vladama',\n",
    "'Institucionalnim investitorima', 'Kineskom Export-Import bankom']\n",
    "\"\"\"\n",
    "#translation\n",
    "act_name_list_eng_ab=[\"WB\", \"EIB\", \"EBRD\", \"CEB\", \"KfW\", \"For-gov\", \"Inst-invest\", \"China banks\"]\n",
    "act_name_list_eng=[\"World Bank\", \"European Investment Bank\", \"European Bank for Reconstruction and Development\", \"Council of Europe Development Bank\", \"German Development Bank\", \"Foreign Governments\", \"Institutional investors\", \"Chinese banks\"]\n",
    "\n",
    "year_dict_ab={}#ab stands for abbreviation\n",
    "#toward function for creating a dictionary for year\n",
    "for value in d.values():\n",
    "    act_name=str(value.at[0,1])\n",
    "    ind=update_list.index(act_name)\n",
    "    act_name=act_name_list_eng_ab[ind]\n",
    "    a,b=get_tups(value)\n",
    "    money,curr=get_mon_cur(a,b,year)\n",
    "    year_dict_ab[act_name]=money\n",
    "#print(year_dict_ab)\n",
    "\n",
    "#IMPORTANT! The number for world bank is not correct, because unlike in the rest of the table, they put\n",
    "#the word \"ukupno\" in the last row, rather in the first row in which the total for a particular Currency\n",
    "#is calculated. At this point I will hard code the correct result\n",
    "year_dict_ab[\"WB\"]=year_dict_ab[\"WB\"]+350000000"
   ]
  },
  {
   "cell_type": "code",
   "execution_count": 7,
   "metadata": {},
   "outputs": [
    {
     "data": {
      "text/html": [
       "<div>\n",
       "<style scoped>\n",
       "    .dataframe tbody tr th:only-of-type {\n",
       "        vertical-align: middle;\n",
       "    }\n",
       "\n",
       "    .dataframe tbody tr th {\n",
       "        vertical-align: top;\n",
       "    }\n",
       "\n",
       "    .dataframe thead th {\n",
       "        text-align: right;\n",
       "    }\n",
       "</style>\n",
       "<table border=\"1\" class=\"dataframe\">\n",
       "  <thead>\n",
       "    <tr style=\"text-align: right;\">\n",
       "      <th></th>\n",
       "      <th>2019</th>\n",
       "      <th>2018</th>\n",
       "    </tr>\n",
       "    <tr>\n",
       "      <th>actors</th>\n",
       "      <th></th>\n",
       "      <th></th>\n",
       "    </tr>\n",
       "  </thead>\n",
       "  <tbody>\n",
       "    <tr>\n",
       "      <td>WB</td>\n",
       "      <td>4.694380e+08</td>\n",
       "      <td>5.659430e+08</td>\n",
       "    </tr>\n",
       "    <tr>\n",
       "      <td>EIB</td>\n",
       "      <td>6.926600e+08</td>\n",
       "      <td>8.260300e+08</td>\n",
       "    </tr>\n",
       "    <tr>\n",
       "      <td>EBRD</td>\n",
       "      <td>1.121000e+08</td>\n",
       "      <td>1.130000e+08</td>\n",
       "    </tr>\n",
       "    <tr>\n",
       "      <td>CEB</td>\n",
       "      <td>1.102120e+09</td>\n",
       "      <td>5.085000e+07</td>\n",
       "    </tr>\n",
       "    <tr>\n",
       "      <td>Imp-exp banks</td>\n",
       "      <td>7.080000e+07</td>\n",
       "      <td>NaN</td>\n",
       "    </tr>\n",
       "    <tr>\n",
       "      <td>KfW</td>\n",
       "      <td>8.496000e+07</td>\n",
       "      <td>6.780000e+07</td>\n",
       "    </tr>\n",
       "    <tr>\n",
       "      <td>For-gov</td>\n",
       "      <td>1.327500e+09</td>\n",
       "      <td>1.600000e+07</td>\n",
       "    </tr>\n",
       "    <tr>\n",
       "      <td>Inst-invest</td>\n",
       "      <td>2.006000e+09</td>\n",
       "      <td>1.130000e+09</td>\n",
       "    </tr>\n",
       "    <tr>\n",
       "      <td>For-invest CFB</td>\n",
       "      <td>9.440000e+08</td>\n",
       "      <td>NaN</td>\n",
       "    </tr>\n",
       "    <tr>\n",
       "      <td>China banks</td>\n",
       "      <td>2.484946e+09</td>\n",
       "      <td>2.627763e+09</td>\n",
       "    </tr>\n",
       "  </tbody>\n",
       "</table>\n",
       "</div>"
      ],
      "text/plain": [
       "                        2019          2018\n",
       "actors                                    \n",
       "WB              4.694380e+08  5.659430e+08\n",
       "EIB             6.926600e+08  8.260300e+08\n",
       "EBRD            1.121000e+08  1.130000e+08\n",
       "CEB             1.102120e+09  5.085000e+07\n",
       "Imp-exp banks   7.080000e+07           NaN\n",
       "KfW             8.496000e+07  6.780000e+07\n",
       "For-gov         1.327500e+09  1.600000e+07\n",
       "Inst-invest     2.006000e+09  1.130000e+09\n",
       "For-invest CFB  9.440000e+08           NaN\n",
       "China banks     2.484946e+09  2.627763e+09"
      ]
     },
     "execution_count": 7,
     "metadata": {},
     "output_type": "execute_result"
    }
   ],
   "source": [
    "#lets create the dataframe for this year, which we will then join to the emerging final dataframe (which serves for visualizations)\n",
    "newdf=pd.DataFrame()\n",
    "newdf[\"actors\"]=year_dict_ab.keys()\n",
    "newdf[\"2018\"]=year_dict_ab.values()\n",
    "newdf.set_index([\"actors\"], inplace=True)\n",
    "\n",
    "final_df=final_df.merge(newdf, how='left', left_index=True, right_index=True)\n",
    "final_df"
   ]
  },
  {
   "cell_type": "markdown",
   "metadata": {},
   "source": [
    "One more table - for 2017"
   ]
  },
  {
   "cell_type": "code",
   "execution_count": 8,
   "metadata": {},
   "outputs": [
    {
     "data": {
      "text/plain": [
       "['Svetskom bankom',\n",
       " 'Evropskom investicionom bankom',\n",
       " 'Bankom za razvoj Saveta Evrope',\n",
       " 'Nemačkom razvojnom bankom (KfW)',\n",
       " 'Stranim vladama',\n",
       " 'Institucionalnim investitorima',\n",
       " 'Kineskom Export - Import bankom']"
      ]
     },
     "execution_count": 8,
     "metadata": {},
     "output_type": "execute_result"
    }
   ],
   "source": [
    "df1=read_pdf(\"budzeti srbije/budzet 2017.pdf\", pages='7-9', multiple_tables=True, spreadsheet=True, encoding='Windows 1250')\n",
    "year=2017\n",
    "del df1[4] #new table no connection whatsoever\n",
    "del df1[0] #garancije - to su troškovi ne prilivi\n",
    "\n",
    "merg_df1=(merge_dataframes(df1))\n",
    "merg_df1=reset_index(merg_df1)\n",
    "merg_df1=numeral_column(merg_df1)\n",
    "merg_df1=merg_df1.drop([0], axis=0)\n",
    "#in the last row they have put both currencies, rendering my erase_rows function inadequate\n",
    "#world bank has been the only lender in two currencies, and they have put them in the same row\n",
    "#we shall see later what happens\n",
    "#merg_df1=erase_rows(merg_df1)\n",
    "merg_df1=merg_df1.drop([36], axis=0)\n",
    "merg_grouped=merg_df1.groupby('number')\n",
    "\n",
    "d={}\n",
    "c=1\n",
    "for frame in merg_grouped:\n",
    "    d[\"2017-%s\"%(c)]=frame#note hard coding of the year number\n",
    "    c+=1\n",
    "#print(merg_df1)\n",
    "\n",
    "update_list=[]\n",
    "d=clean_df(d)\n",
    "for value in d.values():\n",
    "    act_name=str(value.at[0,1])\n",
    "    update_list.append(act_name)\n",
    "\n",
    "#info on what needs translation\n",
    "update_list"
   ]
  },
  {
   "cell_type": "code",
   "execution_count": 9,
   "metadata": {},
   "outputs": [],
   "source": [
    "#for value in d.values():\n",
    "#    act_name=str(value.at[0,1])\n",
    "#    ind=update_list.index(act_name)\n",
    "#    act_name=act_name_list_eng_ab[ind]\n",
    "#    a,b=get_tups(value)\n",
    "#    money,curr=get_mon_cur(a,b,year)\n",
    "#    year_dict_ab[act_name]=money\n",
    "#print(year_dict_ab)"
   ]
  },
  {
   "cell_type": "markdown",
   "metadata": {},
   "source": [
    "The above lines of code, a standard part of parsing a table, return a mistake, which comes from the row in the case of World Bank in which a single cell contains two currencies, and two numbers, respectively.\n",
    "We know that because in the row in question table there are 390 000 000 USD and 407 000 000 Eur\n",
    "and the error returns that the problem lies with ValueError: invalid literal for int() with base 10: '390000000\\r407400000'\n"
   ]
  },
  {
   "cell_type": "code",
   "execution_count": 10,
   "metadata": {
    "scrolled": true
   },
   "outputs": [],
   "source": [
    "#copy of \"update list\" which will be useful in preparing the following table for the final dataframe\n",
    "#['Svetskom bankom', 'Evropskom investicionom bankom', 'Bankom za razvoj Saveta Evrope',\n",
    "#'Nemačkom razvojnom bankom (KfW)', 'Stranim vladama', 'Institucionalnim investitorima',\n",
    "#'Kineskom Export - Import bankom']\n",
    "\n",
    "\n",
    "#hard coded removal of the non-standardized row\n",
    "act_name_list_eng_ab=[\"WB\", \"EIB\", \"CEB\", \"KfW\", \"For-gov\", \"Inst-invest\", \"China banks\"]\n",
    "del d['2017-1']\n",
    "act_name_list_eng_ab=[\"EIB\", \"CEB\", \"KfW\", \"For-gov\", \"Inst-invest\", \"China banks\"]\n",
    "update_list.remove('Svetskom bankom')\n"
   ]
  },
  {
   "cell_type": "code",
   "execution_count": 11,
   "metadata": {},
   "outputs": [],
   "source": [
    "#continue with by now standardized processing of the dataframes\n",
    "year_dict_ab={}\n",
    "for value in d.values():\n",
    "    act_name=str(value.at[0,1])\n",
    "    ind=update_list.index(act_name)\n",
    "    act_name=act_name_list_eng_ab[ind]\n",
    "    a,b=get_tups(value)\n",
    "    money,curr=get_mon_cur(a,b,year)\n",
    "    year_dict_ab[act_name]=money\n",
    "\n",
    "#accounting for the problematic row of the World Bank in this table - combining Euros and Dollars   \n",
    "dol=407000000*1.11\n",
    "year_dict_ab['WB']=390000000+dol"
   ]
  },
  {
   "cell_type": "code",
   "execution_count": 12,
   "metadata": {
    "scrolled": true
   },
   "outputs": [
    {
     "data": {
      "text/html": [
       "<div>\n",
       "<style scoped>\n",
       "    .dataframe tbody tr th:only-of-type {\n",
       "        vertical-align: middle;\n",
       "    }\n",
       "\n",
       "    .dataframe tbody tr th {\n",
       "        vertical-align: top;\n",
       "    }\n",
       "\n",
       "    .dataframe thead th {\n",
       "        text-align: right;\n",
       "    }\n",
       "</style>\n",
       "<table border=\"1\" class=\"dataframe\">\n",
       "  <thead>\n",
       "    <tr style=\"text-align: right;\">\n",
       "      <th></th>\n",
       "      <th>2017</th>\n",
       "      <th>2018</th>\n",
       "      <th>2019</th>\n",
       "    </tr>\n",
       "    <tr>\n",
       "      <th>actors</th>\n",
       "      <th></th>\n",
       "      <th></th>\n",
       "      <th></th>\n",
       "    </tr>\n",
       "  </thead>\n",
       "  <tbody>\n",
       "    <tr>\n",
       "      <td>WB</td>\n",
       "      <td>8.417700e+08</td>\n",
       "      <td>5.659430e+08</td>\n",
       "      <td>4.694380e+08</td>\n",
       "    </tr>\n",
       "    <tr>\n",
       "      <td>EIB</td>\n",
       "      <td>3.470970e+08</td>\n",
       "      <td>8.260300e+08</td>\n",
       "      <td>6.926600e+08</td>\n",
       "    </tr>\n",
       "    <tr>\n",
       "      <td>EBRD</td>\n",
       "      <td>NaN</td>\n",
       "      <td>1.130000e+08</td>\n",
       "      <td>1.121000e+08</td>\n",
       "    </tr>\n",
       "    <tr>\n",
       "      <td>CEB</td>\n",
       "      <td>4.995000e+07</td>\n",
       "      <td>5.085000e+07</td>\n",
       "      <td>1.102120e+09</td>\n",
       "    </tr>\n",
       "    <tr>\n",
       "      <td>Imp-exp banks</td>\n",
       "      <td>NaN</td>\n",
       "      <td>NaN</td>\n",
       "      <td>7.080000e+07</td>\n",
       "    </tr>\n",
       "    <tr>\n",
       "      <td>KfW</td>\n",
       "      <td>4.107000e+07</td>\n",
       "      <td>6.780000e+07</td>\n",
       "      <td>8.496000e+07</td>\n",
       "    </tr>\n",
       "    <tr>\n",
       "      <td>For-gov</td>\n",
       "      <td>1.600000e+07</td>\n",
       "      <td>1.600000e+07</td>\n",
       "      <td>1.327500e+09</td>\n",
       "    </tr>\n",
       "    <tr>\n",
       "      <td>Inst-invest</td>\n",
       "      <td>1.110000e+09</td>\n",
       "      <td>1.130000e+09</td>\n",
       "      <td>2.006000e+09</td>\n",
       "    </tr>\n",
       "    <tr>\n",
       "      <td>For-invest CFB</td>\n",
       "      <td>NaN</td>\n",
       "      <td>NaN</td>\n",
       "      <td>9.440000e+08</td>\n",
       "    </tr>\n",
       "    <tr>\n",
       "      <td>China banks</td>\n",
       "      <td>7.486189e+08</td>\n",
       "      <td>2.627763e+09</td>\n",
       "      <td>2.484946e+09</td>\n",
       "    </tr>\n",
       "  </tbody>\n",
       "</table>\n",
       "</div>"
      ],
      "text/plain": [
       "                        2017          2018          2019\n",
       "actors                                                  \n",
       "WB              8.417700e+08  5.659430e+08  4.694380e+08\n",
       "EIB             3.470970e+08  8.260300e+08  6.926600e+08\n",
       "EBRD                     NaN  1.130000e+08  1.121000e+08\n",
       "CEB             4.995000e+07  5.085000e+07  1.102120e+09\n",
       "Imp-exp banks            NaN           NaN  7.080000e+07\n",
       "KfW             4.107000e+07  6.780000e+07  8.496000e+07\n",
       "For-gov         1.600000e+07  1.600000e+07  1.327500e+09\n",
       "Inst-invest     1.110000e+09  1.130000e+09  2.006000e+09\n",
       "For-invest CFB           NaN           NaN  9.440000e+08\n",
       "China banks     7.486189e+08  2.627763e+09  2.484946e+09"
      ]
     },
     "execution_count": 12,
     "metadata": {},
     "output_type": "execute_result"
    }
   ],
   "source": [
    "newdf=pd.DataFrame()\n",
    "newdf[\"actors\"]=year_dict_ab.keys()\n",
    "newdf[\"2017\"]=year_dict_ab.values()\n",
    "newdf.set_index([\"actors\"], inplace=True)\n",
    "\n",
    "final_df=final_df.merge(newdf, how='left', left_index=True, right_index=True)\n",
    "#and let's reverse the order of the columns for the purposes of visualization\n",
    "columns = final_df.columns.tolist()\n",
    "columns = columns[::-1]\n",
    "final_df=final_df[columns]\n",
    "final_df"
   ]
  },
  {
   "cell_type": "markdown",
   "metadata": {},
   "source": [
    "Here we stop with processing tables.\n",
    "\n",
    "Context: Serbia has two official writing systems/scripts - latin alphabet (with several letters with diacritics - (č.ć,š,ž,đ) and two digraphs (lj and nj), and serbian cyrillic - similar to other cyrillic scripts, but with some differences, and without digraphs. Standard encoding for the latin script is Windows-1250, while for cyrillic it is Windows-1251. However, challenge of converting cyrillic into serbian latin into english language, or developing parallel codes from cyrillic to english, was too formidable for this project at this stage. \n",
    "\n",
    "I was unable to find tables in latin alphabet before 2017. Making dataframes out of tables with serbian cyrillic will be left for further research and practice. Fortunatelly, as visualization will show, we will be able relatively quickly to start asking further empirical and theoretical questions regarding the relationship between ruling class formation, transnational trends in capital accumulation, and the nation-state scale.\n",
    "\n",
    "Therefore, I bracket the questions coming from the short time span for future research."
   ]
  },
  {
   "cell_type": "markdown",
   "metadata": {},
   "source": [
    "## Visualizations"
   ]
  },
  {
   "cell_type": "code",
   "execution_count": 13,
   "metadata": {},
   "outputs": [
    {
     "data": {
      "text/plain": [
       "[[841770000.0, 565943000.0, 469438000.0],\n",
       " [347097000.00000006, 826029999.9999999, 692660000.0],\n",
       " [nan, 112999999.99999999, 112100000.0],\n",
       " [49950000.00000001, 50849999.99999999, 1102120000.0],\n",
       " [nan, nan, 70800000.0],\n",
       " [41070000.0, 67800000.0, 84960000.0],\n",
       " [16000000.0, 16000000.0, 1327500000.0],\n",
       " [1110000000.0, 1130000000.0, 2006000000.0],\n",
       " [nan, nan, 944000000.0],\n",
       " [748618888.0, 2627763335.7041254, 2484946500.0]]"
      ]
     },
     "execution_count": 13,
     "metadata": {},
     "output_type": "execute_result"
    }
   ],
   "source": [
    "#preparatory step for the first visualization\n",
    "\n",
    "list_of_items=[]\n",
    "for item in final_df.index.values:\n",
    "    item=[a for a in final_df.loc[item]]\n",
    "    list_of_items.append(item)\n",
    "\n",
    "list_of_items\n",
    "#list of items represents values which will be used to create a dataframe which can get more easily visualized based on\n",
    "#tutorials I have found and my lacking knowledge of data visualization coding."
   ]
  },
  {
   "cell_type": "code",
   "execution_count": 19,
   "metadata": {
    "scrolled": false
   },
   "outputs": [
    {
     "data": {
      "image/png": "[encoded data removed]",
      "text/plain": [
       "<Figure size 1152x576 with 1 Axes>"
      ]
     },
     "metadata": {
      "needs_background": "light"
     },
     "output_type": "display_data"
    }
   ],
   "source": [
    "#here we will see also the total number of dollars borrowed by the government in this way per year\n",
    "import matplotlib.pyplot as plt\n",
    "import seaborn as sns\n",
    "import pandas as pd\n",
    "\n",
    "#some retooling of the dataframe is necessary in order to prepare the visualizations\n",
    "act_name_list_eng_ab=[\"WB\", \"EIB\", \"EBRD\", \"CEB\", \"Imp-exp banks\", \"KfW\", \"For-gov\", \"Inst-invest\", \"For-invest CFB\", \"China banks\"]\n",
    "#df_vis=({\"WB\", \"EIB\", \"EBRD\", \"CEB\", \"Imp-exp banks\", \"KfW\", \"For-gov\", \"Inst-invest\", \"For-invest CFB\", \"China banks\"\n",
    "\n",
    "         \n",
    "x=(2017,2018,2019)\n",
    "y=[[841770000.0, 565943000.0, 469438000.0],\n",
    " [347097000.00000006, 826029999.9999999, 692660000.0],\n",
    " [1, 112999999.99999999, 112100000.0],\n",
    " [49950000.00000001, 50849999.99999999, 1102120000.0],\n",
    " [1, 1, 70800000.0],\n",
    " [41070000.0, 67800000.0, 84960000.0],\n",
    " [16000000.0, 16000000.0, 1327500000.0],\n",
    " [1110000000.0, 1130000000.0, 2006000000.0],\n",
    " [1, 1, 944000000.0],\n",
    " [748618888.0, 2627763335.7041254, 2484946500.0]]\n",
    "#note hard coding - changing nan into 0 rather than developing a loop for changing nan-s into 0-s.\n",
    "\n",
    "plt.figure(figsize=(16, 8))         \n",
    "plt.stackplot(x,y, labels=[\"World Bank\", \"European Investment Bank\", \"European Bank for Reconstruction and Development\", \"Council of Europe Development Bank\", \"Import-export banks\", \"German Development Bank\", \"Foreign Governments\", \"Institutional investors\", \"Foreign investment corporations, funds and banks\", \"Chinese banks\"])\n",
    "plt.legend(loc='upper left')\n",
    "plt.title(\"Changes in money borrowed from different actors\")\n",
    "plt.show()\n",
    "#note: rerun this cell once again for it actually to show the image"
   ]
  },
  {
   "cell_type": "markdown",
   "metadata": {},
   "source": [
    "Note: rerun the cell above once again for it actually to show the image"
   ]
  },
  {
   "cell_type": "markdown",
   "metadata": {},
   "source": [
    "Here we can see not only the changing ration for three years, but also notice that the overall amount of borrowed money increases."
   ]
  },
  {
   "cell_type": "code",
   "execution_count": 15,
   "metadata": {},
   "outputs": [
    {
     "name": "stdout",
     "output_type": "stream",
     "text": [
      "                    2017      2018      2019\n",
      "actors                                      \n",
      "WB              0.266847  0.104855  0.050507\n",
      "EIB             0.110032  0.153043  0.074523\n",
      "EBRD                 NaN  0.020936  0.012061\n",
      "CEB             0.015834  0.009421  0.118577\n",
      "Imp-exp banks        NaN       NaN  0.007617\n",
      "KfW             0.013019  0.012562  0.009141\n",
      "For-gov         0.005072  0.002964  0.142826\n",
      "Inst-invest     0.351878  0.209361  0.215826\n",
      "For-invest CFB       NaN       NaN  0.101565\n",
      "China banks     0.237317  0.486858  0.267356\n"
     ]
    },
    {
     "data": {
      "text/plain": [
       "[[0.2668468628326745, 0.10485501033273152, 0.050506940941411255],\n",
       " [0.1100321293805111, 0.15304259295573266, 0.07452344657330238],\n",
       " [nan, 0.020936059227870406, 0.012060864436905837],\n",
       " [0.015834492555558043, 0.009421226652541682, 0.11857734088494791],\n",
       " [nan, nan, 0.007617388065414212],\n",
       " [0.013019471656792165, 0.012561635536722245, 0.009140865678497055],\n",
       " [0.005072109727506079, 0.0029643977667781107, 0.1428260262265165],\n",
       " [0.35187761234573417, 0.20936059227870407, 0.215825995186736],\n",
       " [nan, nan, 0.10156517420552283],\n",
       " [0.23731732150122398, 0.4868584852489193, 0.267355957800746]]"
      ]
     },
     "execution_count": 15,
     "metadata": {},
     "output_type": "execute_result"
    }
   ],
   "source": [
    "#now let's make a percent chart, to see the changing ratio between different actors\n",
    "\n",
    "#first convert final_df into percentages\n",
    "perc_df=pd.DataFrame()\n",
    "\n",
    "perc_df[\"2017\"]=final_df[\"2017\"]/final_df[\"2017\"].sum()\n",
    "perc_df[\"2018\"]=final_df[\"2018\"]/final_df[\"2018\"].sum()\n",
    "perc_df[\"2019\"]=final_df[\"2019\"]/final_df[\"2019\"].sum()\n",
    "#perc_df[\"actors\"]=year_dict_ab.keys()\n",
    "#perc_df.set_index([\"actors\"], inplace=True)\n",
    "print(perc_df) \n",
    "\n",
    "#now move toward overly-manual preparation of the percent-chart\n",
    "#instructions listed at https://python-graph-gallery.com/255-percentage-stacked-area-chart/\n",
    "#did not yield a complete chart\n",
    "list_of_items=[]\n",
    "for item in perc_df.index.values:\n",
    "    item=[a for a in perc_df.loc[item]]\n",
    "    list_of_items.append(item)\n",
    "\n",
    "list_of_items\n"
   ]
  },
  {
   "cell_type": "code",
   "execution_count": 18,
   "metadata": {},
   "outputs": [
    {
     "data": {
      "image/png": "[encoded data removed]",
      "text/plain": [
       "<Figure size 1152x576 with 1 Axes>"
      ]
     },
     "metadata": {
      "needs_background": "light"
     },
     "output_type": "display_data"
    }
   ],
   "source": [
    "x=(2017,2018,2019)\n",
    "y=[[0.2668468628326745, 0.10485501033273152, 0.050506940941411255],\n",
    " [0.1100321293805111, 0.15304259295573266, 0.07452344657330238],\n",
    " [0, 0.020936059227870406, 0.012060864436905837],\n",
    " [0.015834492555558043, 0.009421226652541682, 0.11857734088494791],\n",
    " [0, 0, 0.007617388065414212],\n",
    " [0.013019471656792165, 0.012561635536722245, 0.009140865678497055],\n",
    " [0.005072109727506079, 0.0029643977667781107, 0.1428260262265165],\n",
    " [0.35187761234573417, 0.20936059227870407, 0.215825995186736],\n",
    " [0, 0, 0.10156517420552283],\n",
    " [0.23731732150122398, 0.4868584852489193, 0.267355957800746]]\n",
    "#note hard coding - nan-s into 0-s\n",
    "\n",
    "plt.figure(figsize=(16, 8))       \n",
    "plt.stackplot(x,y, labels=[\"World Bank\", \"European Investment Bank\", \"European Bank for Reconstruction and Development\", \"Council of Europe Development Bank\", \"Import-export banks\", \"German Development Bank\", \"Foreign Governments\", \"Institutional investors\", \"Foreign investment corporations, funds and banks\", \"Chinese banks\"])\n",
    "plt.legend(loc='upper left')\n",
    "plt.title(\"Changing ratios between different lenders\")\n",
    "plt.show()"
   ]
  },
  {
   "cell_type": "markdown",
   "metadata": {},
   "source": [
    "## Duscussion and questions for further research "
   ]
  },
  {
   "cell_type": "markdown",
   "metadata": {},
   "source": [
    "### First visualization"
   ]
  },
  {
   "cell_type": "markdown",
   "metadata": {},
   "source": [
    "We can see several interesting trends based on this visualization.\n",
    "\n",
    "The first is the growing total amount of borrowings. This calls for comparing this dataset with data on different ways debt is incurred and created by the government and the economy (eg. data on interest rates of these loans). It could mean rising trust of foreign lenders in serbian government and economy, which in turn means strengthening of the alliance between the domestic and transnational forms of rulling classes. This fits well into the thesis about emergent \"stabilocracies\" in Central-Eastern Europe, where growing authoritarianism is coupled with positive performance according to official and neoliberal economic indicators. If we can say that the relation between domestic and transnational forms of ruling classes are amiable, questions emerge regarding the boundaries between those two forms. Are we witnessing a \"transnationalization\" of domestic local ruling class, or its further division into transnationalized and domesticized factions? What does that depend on? Starting steps in that exploration would be to map more precisely how these loans are arranged and where are the power relations relevant for these loans concentrated. Another would be to bring this data into conversation with other (not necessarily extant) data on the structure and reproduction of economy - its real and financial sector, its public and private sector, etc.\n",
    "For example, it is common knowledge that Germany is a very important foreign economic partner of Serbia. However, unlike another important partner - China, we do not see substantial loans from German Development Bank (KfW). We could generate more questions by further examining contrasts such as this between Germany and China, in how they exert their influence over Serbian economy and government.\n",
    "\n",
    "The second interesting trend to note is the diversification of the lenders. From 4 main lenders in 2017 the range has expanded to at least 7 notable lenders. Here we can also note the absence of IMF (AKA the international \"lender of last resort\"), as well as the slowly decreasing input from the World Bank. Indeed, these numbers point that it would be reasonable to further investigate how this economic strategy (diversification of lenders) has acquired legitimacy and what was the role of transnational institutions in that.\n",
    "Another interesting emergence is that of foreign investment corporations, funds and banks - showing the increasing interaction of the government with private financial actors, which should also have implications for understanding the class formation at the periphery in the age of established neoliberalism. Change in relevant actors is pointing toward new problems for neoliberal governance which might give rise to different constelation of class relations. This might also be worth further investigating in the case of increasing prominence of foreign governments as lenders.\n",
    "\n",
    "Finally, we should comment on the importance of Chinese (state-owned) banks. After being the second largest lender in 2017, Chinese banks occupied the first position, especially in 2018. This might lead into a fruitful investigation of the relation between geoplitics and geoeconomics - or understanding the meaning of international political and economic tensions (eg. WB and IMF on one side, and Chinese banks on the other), and what is the meaning of the places of their coexistence such as Serbia."
   ]
  },
  {
   "cell_type": "markdown",
   "metadata": {},
   "source": [
    "## Second visualization"
   ]
  },
  {
   "cell_type": "markdown",
   "metadata": {},
   "source": [
    "Second visualization adds clarity to the previous discussion. The issue of rising borrowed amounts is bracketed, and we can look more at the relative prominence of different actors.\n",
    "\n",
    "We can note that World Bank's prominence decreases even more in relative terms (in comparison to other actors) than in absolute terms (the amount of money). Does that mean that it becomes also a politically less important actor, or that its importance gets rearticulated in a different way?\n",
    "\n",
    "We can see that in 2018 China approached to being the lender of the absolute majority of money, while in 2019 we see a much more balanced picture, with no actor holding more than around 35% of the amount. Does that signify a better bargaining position of Serbian government in relation to each single actor, or greater precarity because of the rising number of potentially vulnerable relations and increasing need to balance between various lenders?"
   ]
  },
  {
   "cell_type": "markdown",
   "metadata": {},
   "source": [
    "## Generated Questions and lines of research"
   ]
  },
  {
   "cell_type": "markdown",
   "metadata": {},
   "source": [
    "- How does this way of debt creation relate to other ways of debt creation?\n",
    "- How do these flows of money articulate with domestic and transnational ruling class formation?\n",
    "    - What cleavages emerge on the level of domestic ruling class?\n",
    "- What is the instituional architecture behind these loans?\n",
    "- What do these flows mean for different \"foreign influence\" - comparing Germany and China in Serbia.\n",
    "- Exploring the role of transnational financial instutions in legitimacy-making of stabilocracy regimes.\n",
    "- What were the problems facing neoliberal governance in 2017 - leading to 4 lenders, and in 2019 - leading to seven?\n",
    "- Exploring the relationship between geopolitics and geoeconomics.\n",
    "    - exploring the spaces of coexistence of different forms of geoeconomic and geopolitical influence.\n",
    "- Is the influence of World Bank waning or getting rearticulated?\n",
    "- How does the increased number of relatively equal lending instances (actors) translate into bargaining power of the Serbian government, or more broadly, what does it mean for the power relations in which the government is implicated?"
   ]
  },
  {
   "cell_type": "markdown",
   "metadata": {},
   "source": [
    "## Unanswered questions"
   ]
  },
  {
   "cell_type": "markdown",
   "metadata": {},
   "source": [
    "These tables could be parsed in other ways as well. They often state not only the amount of money, but for what projects they have been lent. Parsing the document for that information and charting it in an accessible way could yield further and more precise insights into the dynamics, as well as interesting patterns which might lead to theoretically fruitful questions.\n",
    "\n",
    "It is important to note that for institutional investors and foreign investment corporations, funds, and banks, these tables do not contain more specific information. Reason is that the loans by these actors consist of bonds issued by the government, and I was unable to find datasets on the circulation of those bonds. This issue should be approached in some other way."
   ]
  },
  {
   "cell_type": "markdown",
   "metadata": {},
   "source": [
    "##  Concluding remarks - Issues in generating data/politics of data"
   ]
  },
  {
   "cell_type": "markdown",
   "metadata": {},
   "source": [
    "This project has, as a side effect, shown the challenges when working with different languages - English language has only traces of case system of noun and pronoun declension, unlike serbo-croatian.\n",
    "\n",
    "Not having to deal with the problem of same word with different cases enables english development of a certain code. \n",
    "If the case was that I was developing a code in serbo-croatian, 2 ideas of different ways of coding come to mind: one idea is that inputing would present a more prominent practice as a step toward faster processing of cased nouns into the adequate form for representation. Other idea would be a development of a package which would be able to recognize and translate different cases. The case endings also change according to gender, number, and phonetics, so those are all additional challenges.\n",
    "\n",
    "Seeing how cumbersome it is to parse through government documents (which were not intended for, yet deserve parsing), a conclusion might emerge that the way code operates and is structured accelerates power relations embedded in certain data. How data is created, what data is about, and how data are organized are not neutral issues. Some data are closer to usage in coding than some other, and some are even produced with coding in mind, while some information were more or less on purpose not intended for coding. Particular decision-making processes stand behind gathering and collecting data in a way which makes data more or less easy for coding. In explorating the manifestations of this problem lies potential for articulation of political demands for a more equitable or progressive knowledge production, generation, and dissemination.   "
   ]
  },
  {
   "cell_type": "code",
   "execution_count": null,
   "metadata": {},
   "outputs": [],
   "source": []
  }
 ],
 "metadata": {
  "kernelspec": {
   "display_name": "Python 3",
   "language": "python",
   "name": "python3"
  },
  "language_info": {
   "codemirror_mode": {
    "name": "ipython",
    "version": 3
   },
   "file_extension": ".py",
   "mimetype": "text/x-python",
   "name": "python",
   "nbconvert_exporter": "python",
   "pygments_lexer": "ipython3",
   "version": "3.7.4"
  }
 },
 "nbformat": 4,
 "nbformat_minor": 2
}
